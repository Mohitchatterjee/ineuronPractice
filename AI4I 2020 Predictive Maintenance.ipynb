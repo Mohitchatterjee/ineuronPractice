{
 "cells": [
  {
   "cell_type": "code",
   "execution_count": 1,
   "metadata": {},
   "outputs": [],
   "source": [
    "# Importing Required library\n",
    "import joblib\n",
    "import logging\n",
    "import numpy as np\n",
    "import pandas as pd\n",
    "import matplotlib.pyplot as plt\n",
    "from pandas_profiling import ProfileReport\n",
    "from sklearn.linear_model import LinearRegression"
   ]
  },
  {
   "cell_type": "code",
   "execution_count": 4,
   "metadata": {},
   "outputs": [],
   "source": [
    "class predictModel:\n",
    "    logging.basicConfig(filename='model.log', level=logging.DEBUG, format='%(asctime)s %(levelname)s %(message)s')\n",
    "    def pandasProfiling(self,dataFrame):\n",
    "        self.dataFrame = dataFrame\n",
    "        pf = ProfileReport(dataFrame)\n",
    "        pf.to_widgets()\n",
    "        logging.info(\"Pandas Profiling Done...\")\n",
    "    def myAnalysis(self):\n",
    "        logging.info('My Analysis of Data( AI4I 2020 Predictive Maintenance)')\n",
    "\n",
    "        logging.info('There is 14 number of attributes in my dataset which consist many funtionality [inner or outter] of machine.There is 5 inner funtionality which is highly correlated to Machine failure.\\nIf any funtionality among these 5 are failed, then Machine will failed definetly.\\nThis dataset also consist type of machine i.e. High, Medium and Low which indicated the product quality.\\nOur task is to find out, on certain point or consist certain output of these factor [Process temperature [K],Rotational speed [rpm],Torque [Nm],Tool wear [min],Machine failure,TWF,HDF,PWF,OSF,RNF], what is the air temperature will it have.')\n",
    "        \n",
    "    def gettingIndependentAndDependentFeatures(self, dataFrame):\n",
    "        self.dataFrame = dataFrame\n",
    "        self.x =  self.dataFrame[['Process temperature [K]','Rotational speed [rpm]','Torque [Nm]','Tool wear [min]','Machine failure','TWF','HDF','PWF','OSF','RNF']]\n",
    "        self.y = self.dataFrame[['Air temperature [K]']]\n",
    "        logging.info('Independent and Dependent Feature is created.. ')\n",
    "        return self.x\n",
    "    def createModel(self, dataFrame):\n",
    "        self.linear = LinearRegression()\n",
    "        (self.linear).fit(self.x,self.y)\n",
    "        logging.info(str((self.linear).fit(self.x,self.y))+' Model Object is created....')\n",
    "    def testModel(self,independentData):\n",
    "        logging.info('Model Testing '+str((self.linear).predict([independentData])))\n",
    "    def modelAccuracy(self):\n",
    "        logging.info('Model Accuracy '+str((self.linear).score(self.x,self.y)))\n",
    "    def modelSaving(self,fileName):\n",
    "        self.fileName = fileName\n",
    "        joblib.dump(self.linear, fileName)\n",
    "        logging.info('Saving Model File..')\n",
    "    def modelLoading(self):   \n",
    "        loaded_model = joblib.load(self.fileName)\n",
    "        logging.info('Loading Model File..')"
   ]
  },
  {
   "cell_type": "code",
   "execution_count": 5,
   "metadata": {},
   "outputs": [
    {
     "data": {
      "application/vnd.jupyter.widget-view+json": {
       "model_id": "541f5fefdebf4c709ac3fef8d923447e",
       "version_major": 2,
       "version_minor": 0
      },
      "text/plain": [
       "HBox(children=(HTML(value='Summarize dataset'), FloatProgress(value=0.0, max=5.0), HTML(value='')))"
      ]
     },
     "metadata": {},
     "output_type": "display_data"
    },
    {
     "name": "stdout",
     "output_type": "stream",
     "text": [
      "\n"
     ]
    },
    {
     "data": {
      "application/vnd.jupyter.widget-view+json": {
       "model_id": "8a7a48039d0149738a21d2150b4d918d",
       "version_major": 2,
       "version_minor": 0
      },
      "text/plain": [
       "HBox(children=(HTML(value='Generate report structure'), FloatProgress(value=0.0, max=1.0), HTML(value='')))"
      ]
     },
     "metadata": {},
     "output_type": "display_data"
    },
    {
     "name": "stdout",
     "output_type": "stream",
     "text": [
      "\n"
     ]
    },
    {
     "data": {
      "application/vnd.jupyter.widget-view+json": {
       "model_id": "",
       "version_major": 2,
       "version_minor": 0
      },
      "text/plain": [
       "HBox(children=(HTML(value='Render widgets'), FloatProgress(value=0.0, max=1.0), HTML(value='')))"
      ]
     },
     "metadata": {},
     "output_type": "display_data"
    },
    {
     "data": {
      "application/vnd.jupyter.widget-view+json": {
       "model_id": "51f9b6a1ec6d4accb2af2e411cf2fea6",
       "version_major": 2,
       "version_minor": 0
      },
      "text/plain": [
       "VBox(children=(Tab(children=(Tab(children=(GridBox(children=(VBox(children=(GridspecLayout(children=(HTML(valu…"
      ]
     },
     "metadata": {},
     "output_type": "display_data"
    }
   ],
   "source": [
    "modelObj = predictModel()\n",
    "df = pd.read_csv('ai4i2020.csv')\n",
    "modelObj.pandasProfiling(df)\n",
    "modelObj.myAnalysis()\n",
    "modelObj.gettingIndependentAndDependentFeatures(df)\n",
    "modelObj.createModel(df)\n",
    "modelObj.testModel([309.5,1294,66.7,12,1,0,0,1,0,0])\n",
    "modelObj.modelAccuracy()\n",
    "modelObj.modelSaving('modelCopy.sav')\n",
    "modelObj.modelLoading()"
   ]
  },
  {
   "cell_type": "code",
   "execution_count": 84,
   "metadata": {},
   "outputs": [
    {
     "data": {
      "text/plain": [
       "array([[299.21973674]])"
      ]
     },
     "execution_count": 84,
     "metadata": {},
     "output_type": "execute_result"
    }
   ],
   "source": [
    "# Test 1\n",
    "linear.predict([[309.1,2861,4.6,143,1,0,0,1,0,0]])"
   ]
  },
  {
   "cell_type": "code",
   "execution_count": 85,
   "metadata": {},
   "outputs": [
    {
     "data": {
      "text/plain": [
       "array([[297.60699357]])"
      ]
     },
     "execution_count": 85,
     "metadata": {},
     "output_type": "execute_result"
    }
   ],
   "source": [
    "# Test 2\n",
    "linear.predict([[308.1,1412,52.3,218,1,0,0,0,1,0]])"
   ]
  },
  {
   "cell_type": "code",
   "execution_count": 88,
   "metadata": {},
   "outputs": [
    {
     "data": {
      "text/plain": [
       "array([[298.83336841]])"
      ]
     },
     "execution_count": 88,
     "metadata": {},
     "output_type": "execute_result"
    }
   ],
   "source": [
    "# Test 3\n",
    "linear.predict([[309.0,1741,28.0,21,0,0,0,0,0,0]])"
   ]
  },
  {
   "cell_type": "code",
   "execution_count": 89,
   "metadata": {},
   "outputs": [
    {
     "data": {
      "text/plain": [
       "array([[297.70172075]])"
      ]
     },
     "execution_count": 89,
     "metadata": {},
     "output_type": "execute_result"
    }
   ],
   "source": [
    "# Test 4\n",
    "linear.predict([[308.2,1282,60.7,216,1,0,0,0,1,0]])"
   ]
  },
  {
   "cell_type": "code",
   "execution_count": 93,
   "metadata": {},
   "outputs": [
    {
     "data": {
      "text/plain": [
       "array([[298.79262865]])"
      ]
     },
     "execution_count": 93,
     "metadata": {},
     "output_type": "execute_result"
    }
   ],
   "source": [
    "# Test 5\n",
    "linear.predict([[308.9,1455,41.3,208,1,1,0,0,0,0]])"
   ]
  },
  {
   "cell_type": "code",
   "execution_count": 95,
   "metadata": {},
   "outputs": [
    {
     "data": {
      "text/plain": [
       "array([[298.10379428]])"
      ]
     },
     "execution_count": 95,
     "metadata": {},
     "output_type": "execute_result"
    }
   ],
   "source": [
    "# Test 6\n",
    "linear.predict([[308.4,1507,45.7,192,0,0,0,0,0,0]])"
   ]
  },
  {
   "cell_type": "code",
   "execution_count": 97,
   "metadata": {},
   "outputs": [
    {
     "data": {
      "text/plain": [
       "array([[300.17864006]])"
      ]
     },
     "execution_count": 97,
     "metadata": {},
     "output_type": "execute_result"
    }
   ],
   "source": [
    "# Test 7\n",
    "linear.predict([[310.3,1352,48.9,238,1,0,0,0,1,0]])"
   ]
  },
  {
   "cell_type": "code",
   "execution_count": null,
   "metadata": {},
   "outputs": [],
   "source": [
    "# Test 8\n",
    "linear.predict([[309.0,1741,28.0,21,0,0,0,0,0,0]])"
   ]
  },
  {
   "cell_type": "code",
   "execution_count": 98,
   "metadata": {},
   "outputs": [
    {
     "data": {
      "text/plain": [
       "array([[299.39670648]])"
      ]
     },
     "execution_count": 98,
     "metadata": {},
     "output_type": "execute_result"
    }
   ],
   "source": [
    "# Test 9\n",
    "linear.predict([[309.5,1294,66.7,12,1,0,0,1,0,0]])"
   ]
  },
  {
   "cell_type": "code",
   "execution_count": 90,
   "metadata": {},
   "outputs": [
    {
     "data": {
      "text/plain": [
       "array([[298.3323159]])"
      ]
     },
     "execution_count": 90,
     "metadata": {},
     "output_type": "execute_result"
    }
   ],
   "source": [
    "# Test 10\n",
    "linear.predict([[308.6,1558,42.4,14,0,0,0,0,0,0]])"
   ]
  }
 ],
 "metadata": {
  "kernelspec": {
   "display_name": "Python 3",
   "language": "python",
   "name": "python3"
  },
  "language_info": {
   "codemirror_mode": {
    "name": "ipython",
    "version": 3
   },
   "file_extension": ".py",
   "mimetype": "text/x-python",
   "name": "python",
   "nbconvert_exporter": "python",
   "pygments_lexer": "ipython3",
   "version": "3.8.5"
  }
 },
 "nbformat": 4,
 "nbformat_minor": 4
}
